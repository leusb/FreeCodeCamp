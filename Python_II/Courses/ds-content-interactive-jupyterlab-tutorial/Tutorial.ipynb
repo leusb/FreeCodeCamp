{
 "cells": [
  {
   "cell_type": "markdown",
   "metadata": {},
   "source": [
    "![rmotr](https://user-images.githubusercontent.com/7065401/52071918-bda15380-2562-11e9-828c-7f95297e4a82.png)\n",
    "<hr style=\"margin-bottom: 40px;\">\n",
    "\n",
    "<img src=\"https://user-images.githubusercontent.com/7065401/55025843-7d99a280-4fe0-11e9-938a-4879d95c4130.png\"\n",
    "    style=\"width:150px; float: right; margin: 0 40px 40px 40px;\"></img>\n",
    "\n",
    "# Interactive Notebooks Tutorial\n",
    "\n",
    "Welcome to Notebooks.ai ❤️, a fully online 🤖, cloud-based ☁️ Data Science environment. All your work, analysis and datasets organized in the same place 🙌.\n",
    "\n",
    "![purple-divider](https://user-images.githubusercontent.com/7065401/52071927-c1cd7100-2562-11e9-908a-dde91ba14e59.png)"
   ]
  },
  {
   "cell_type": "markdown",
   "metadata": {},
   "source": [
    "### Objective of this tutorial:\n",
    "\n",
    "> **Help you get started with Notebooks.ai for Data Science and Python programming.**\n",
    "\n",
    "_Need help? Create an [issue](https://github.com/notebooks-ai/notebooks-help)._\n",
    "\n",
    "![green-divider](https://user-images.githubusercontent.com/7065401/52071924-c003ad80-2562-11e9-8297-1c6595f8a7ff.png)\n",
    "\n",
    "## Jupyter Notebooks\n",
    "\n",
    "This document that you're currently reading is a \"Jupyter Notebook\", and you've probably heard about it before. It's like a text document, but you can run code on it! It can also display inline graphs, pull data from Databases or show excel spreadsheets live! Isn't it amazing? 😄 \n",
    "\n",
    "**Mildly interesting fact of the day:**\n",
    "\n",
    "> _Jupyter is a nod to 3 languages: Julia, Python, and R._ Source [@jakevdp](https://twitter.com/jakevdp/status/1033071052652302336).\n",
    "\n",
    "This is a really quick tutorial on how to get started with Jupyter notebooks (and lab). It shouldn't take more than 10 minutes and you'll be writing Python code right away.\n",
    "\n",
    "### Part 1: everything is a _cell_\n",
    "\n",
    "Jupyter Notebooks are organized as a set of _\"cells\"_. Each cell can contain different types of content: like Python code (or R, Julia, etc), images or even human readable text (markdown), like the one you're currently reading.\n",
    "\n",
    "I've left a couple of empty cells below for you to see them:"
   ]
  },
  {
   "cell_type": "code",
   "execution_count": null,
   "metadata": {},
   "outputs": [],
   "source": []
  },
  {
   "cell_type": "code",
   "execution_count": null,
   "metadata": {},
   "outputs": [],
   "source": []
  },
  {
   "cell_type": "code",
   "execution_count": null,
   "metadata": {},
   "outputs": [],
   "source": []
  },
  {
   "cell_type": "markdown",
   "metadata": {},
   "source": [
    "This is another cell containing Markdown (human readable) code. And below, another empty cell:"
   ]
  },
  {
   "cell_type": "code",
   "execution_count": null,
   "metadata": {},
   "outputs": [],
   "source": []
  },
  {
   "cell_type": "markdown",
   "metadata": {},
   "source": [
    "You can edit these cells just by double clicking on them. Try editing the following cell:"
   ]
  },
  {
   "cell_type": "markdown",
   "metadata": {},
   "source": [
    "**👉 Double click on me 👈**"
   ]
  },
  {
   "cell_type": "markdown",
   "metadata": {},
   "source": [
    "When you double click the cell, it should open an \"edit mode\", and you should see something similar to:\n",
    "\n",
    "![image](images/_1.png)"
   ]
  },
  {
   "cell_type": "markdown",
   "metadata": {},
   "source": [
    "If you're seeing those asterisks, it's because you've correctly entered \"Edit Mode\". Once you've made the changes, you have to \"execute\", or \"run\" the cell to reflect the changes. To do that just click on the little _play_ button on the top menu bar:\n",
    "\n",
    "![image](images/_2.png)"
   ]
  },
  {
   "cell_type": "markdown",
   "metadata": {},
   "source": [
    "Jupyter notebooks are optimized for an efficient workflow. There are many keyboard shortcuts that will let you interact with your documents, run code and make other changes; mastering these shortcuts will speed up your work. For example, there are two shortcuts to execute a cell:\n",
    "\n",
    "1. `shift + return`: Run cell and advance to the next one.\n",
    "2. `ctrl  + return`: Run the cell but don't change focus.\n",
    "\n",
    "\n",
    "Try them with the following cell:"
   ]
  },
  {
   "cell_type": "code",
   "execution_count": 32,
   "metadata": {},
   "outputs": [
    {
     "data": {
      "text/plain": [
       "4"
      ]
     },
     "execution_count": 32,
     "metadata": {},
     "output_type": "execute_result"
    }
   ],
   "source": [
    "2 + 2"
   ]
  },
  {
   "cell_type": "code",
   "execution_count": null,
   "metadata": {},
   "outputs": [],
   "source": []
  },
  {
   "cell_type": "code",
   "execution_count": null,
   "metadata": {},
   "outputs": [],
   "source": []
  },
  {
   "cell_type": "code",
   "execution_count": null,
   "metadata": {},
   "outputs": [],
   "source": []
  },
  {
   "cell_type": "code",
   "execution_count": null,
   "metadata": {},
   "outputs": [],
   "source": []
  },
  {
   "cell_type": "markdown",
   "metadata": {},
   "source": [
    "You can try executing these cells as many times as you want, it won't break anything"
   ]
  },
  {
   "cell_type": "markdown",
   "metadata": {},
   "source": [
    "#### `ctrl + Return` effect:\n",
    "\n",
    "As you can see in the following animation, the code is correctly executed (it returns 4) and the focus (the blue line at the left side of the cell) stays in the same cell.\n",
    "\n",
    "![ctrl+enter effect](images/_3.gif)\n",
    "\n",
    "Now compare it to the next shortcut, `shift + return`:\n",
    "\n",
    "#### `shift + Return` effect:\n",
    "\n",
    "![shift+enter effect](images/_4.gif)\n",
    "\n",
    "As you can see, every time I execute code the focus changes to the cell below."
   ]
  },
  {
   "cell_type": "markdown",
   "metadata": {},
   "source": [
    "![green-divider](https://user-images.githubusercontent.com/7065401/52071924-c003ad80-2562-11e9-8297-1c6595f8a7ff.png)"
   ]
  },
  {
   "cell_type": "markdown",
   "metadata": {},
   "source": [
    "## Part 2: Working with code\n",
    "\n",
    "Jupyter notebooks have amazing features to include text and images and create beautiful, human readable documents as you've just seen. But their main benefit is working with code. Now we're going to import a few libraries and start experimenting with Python code. We've already done the simple `2 + 2` before, so let's do something a little bit more interesting. First, we need to import `numpy` and `matplotlib`:"
   ]
  },
  {
   "cell_type": "code",
   "execution_count": 37,
   "metadata": {},
   "outputs": [],
   "source": [
    "import numpy as np\n",
    "import matplotlib.pyplot as plt\n",
    "%matplotlib inline"
   ]
  },
  {
   "cell_type": "markdown",
   "metadata": {},
   "source": [
    "Notebooks.ai include all the most popular Data Science and Deep Learning libraries already installed. And even if there's one missing, you can always install it in your own environment (more on that later). We've just imported these two libraries:\n",
    "* `numpy` the most popular Python library for array manipulation and numeric computing\n",
    "* `matplotlib` the most popular visualization library in the Python ecosystem.\n",
    "\n",
    "Let's now execute a few lines of code and generate some plots:"
   ]
  },
  {
   "cell_type": "code",
   "execution_count": 38,
   "metadata": {},
   "outputs": [],
   "source": [
    "x = np.linspace(0, 10, 500)\n",
    "y = np.cumsum(np.random.randn(500, 6), 0)"
   ]
  },
  {
   "cell_type": "code",
   "execution_count": 39,
   "metadata": {},
   "outputs": [
    {
     "data": {
      "text/plain": [
       "<matplotlib.legend.Legend at 0x115c1abc0>"
      ]
     },
     "execution_count": 39,
     "metadata": {},
     "output_type": "execute_result"
    },
    {
     "data": {
      "image/png": "[encoded data removed]",
      "text/plain": [
       "<Figure size 864x504 with 1 Axes>"
      ]
     },
     "metadata": {
      "needs_background": "light"
     },
     "output_type": "display_data"
    }
   ],
   "source": [
    "plt.figure(figsize=(12, 7))\n",
    "plt.plot(x, y)\n",
    "plt.legend('ABCDEF', ncol=2, loc='upper left')"
   ]
  },
  {
   "cell_type": "markdown",
   "metadata": {},
   "source": [
    "But what is that 😱? Just random generated datapoints, but you can clearly see how simple is to do numeric processing and plotting with Notebooks.ai."
   ]
  },
  {
   "cell_type": "markdown",
   "metadata": {},
   "source": [
    "![green-divider](https://user-images.githubusercontent.com/7065401/52071924-c003ad80-2562-11e9-8297-1c6595f8a7ff.png)\n",
    "\n",
    "## Part 3: Interacting with data\n",
    "\n",
    "Notebooks.ai and Jupyter Lab make it really simple to intereact with files in your local storage. These files are securely stored in the cloud and you can access them from anywhere in the world.\n",
    "\n",
    "To show you the full potential of Notebooks.ai, we're going to pull cryptocurrencies prices from a public API and download them as Excel files, pretty fancy 😎. I need to import two libraries first: `requests` (to pull data from the web) and `pandas` to process it."
   ]
  },
  {
   "cell_type": "code",
   "execution_count": 47,
   "metadata": {},
   "outputs": [],
   "source": [
    "import requests\n",
    "import pandas as pd"
   ]
  },
  {
   "cell_type": "markdown",
   "metadata": {},
   "source": [
    "I have a predefined function that simplifies the process of importing data from [Cryptowatch](https://cryptowat.ch) (for reference, check [their docs](https://cryptowat.ch/docs/api#ohlc))."
   ]
  },
  {
   "cell_type": "code",
   "execution_count": 48,
   "metadata": {},
   "outputs": [],
   "source": [
    "def get_historic_price(symbol, exchange='bitfinex', after='2018-09-01'):\n",
    "    url = 'https://api.cryptowat.ch/markets/{exchange}/{symbol}usd/ohlc'.format(\n",
    "        symbol=symbol, exchange=exchange)\n",
    "    resp = requests.get(url, params={\n",
    "        'periods': '3600',\n",
    "        'after': str(int(pd.Timestamp(after).timestamp()))\n",
    "    })\n",
    "    resp.raise_for_status()\n",
    "    data = resp.json()\n",
    "    df = pd.DataFrame(data['result']['3600'], columns=[\n",
    "        'CloseTime', 'OpenPrice', 'HighPrice', 'LowPrice', 'ClosePrice', 'Volume', 'NA'\n",
    "    ])\n",
    "    df['CloseTime'] = pd.to_datetime(df['CloseTime'], unit='s')\n",
    "    df.set_index('CloseTime', inplace=True)\n",
    "    return df"
   ]
  },
  {
   "cell_type": "markdown",
   "metadata": {},
   "source": [
    "I will now pull data from Bitcoin and Ether, two of the most popular cryptocurrencies, for the last 7 days:"
   ]
  },
  {
   "cell_type": "code",
   "execution_count": 49,
   "metadata": {},
   "outputs": [
    {
     "data": {
      "text/plain": [
       "Timestamp('2021-12-02 15:26:57.515925')"
      ]
     },
     "execution_count": 49,
     "metadata": {},
     "output_type": "execute_result"
    }
   ],
   "source": [
    "last_week = (pd.Timestamp.now() - pd.offsets.Day(7))\n",
    "last_week"
   ]
  },
  {
   "cell_type": "code",
   "execution_count": 65,
   "metadata": {},
   "outputs": [],
   "source": [
    "btc = get_historic_price('btc', 'bitstamp', after=last_week)"
   ]
  },
  {
   "cell_type": "code",
   "execution_count": 66,
   "metadata": {},
   "outputs": [],
   "source": [
    "eth = get_historic_price('eth', 'bitstamp', after=last_week)"
   ]
  },
  {
   "cell_type": "markdown",
   "metadata": {},
   "source": [
    "**Bitcoin:**"
   ]
  },
  {
   "cell_type": "code",
   "execution_count": 67,
   "metadata": {},
   "outputs": [
    {
     "data": {
      "text/html": [
       "<div>\n",
       "<style scoped>\n",
       "    .dataframe tbody tr th:only-of-type {\n",
       "        vertical-align: middle;\n",
       "    }\n",
       "\n",
       "    .dataframe tbody tr th {\n",
       "        vertical-align: top;\n",
       "    }\n",
       "\n",
       "    .dataframe thead th {\n",
       "        text-align: right;\n",
       "    }\n",
       "</style>\n",
       "<table border=\"1\" class=\"dataframe\">\n",
       "  <thead>\n",
       "    <tr style=\"text-align: right;\">\n",
       "      <th></th>\n",
       "      <th>OpenPrice</th>\n",
       "      <th>HighPrice</th>\n",
       "      <th>LowPrice</th>\n",
       "      <th>ClosePrice</th>\n",
       "      <th>Volume</th>\n",
       "      <th>NA</th>\n",
       "    </tr>\n",
       "  </thead>\n",
       "  <tbody>\n",
       "    <tr>\n",
       "      <th>count</th>\n",
       "      <td>168.000000</td>\n",
       "      <td>168.000000</td>\n",
       "      <td>168.000000</td>\n",
       "      <td>168.000000</td>\n",
       "      <td>168.000000</td>\n",
       "      <td>1.680000e+02</td>\n",
       "    </tr>\n",
       "    <tr>\n",
       "      <th>mean</th>\n",
       "      <td>50970.255774</td>\n",
       "      <td>51264.834345</td>\n",
       "      <td>50568.797857</td>\n",
       "      <td>50922.778571</td>\n",
       "      <td>167.736803</td>\n",
       "      <td>8.328653e+06</td>\n",
       "    </tr>\n",
       "    <tr>\n",
       "      <th>std</th>\n",
       "      <td>2856.295914</td>\n",
       "      <td>2811.397557</td>\n",
       "      <td>2944.311086</td>\n",
       "      <td>2820.272955</td>\n",
       "      <td>245.833425</td>\n",
       "      <td>1.166496e+07</td>\n",
       "    </tr>\n",
       "    <tr>\n",
       "      <th>min</th>\n",
       "      <td>46600.690000</td>\n",
       "      <td>47499.090000</td>\n",
       "      <td>41967.500000</td>\n",
       "      <td>46588.630000</td>\n",
       "      <td>13.271510</td>\n",
       "      <td>6.686812e+05</td>\n",
       "    </tr>\n",
       "    <tr>\n",
       "      <th>25%</th>\n",
       "      <td>49122.477500</td>\n",
       "      <td>49388.882500</td>\n",
       "      <td>48827.895000</td>\n",
       "      <td>49105.290000</td>\n",
       "      <td>47.980147</td>\n",
       "      <td>2.472287e+06</td>\n",
       "    </tr>\n",
       "    <tr>\n",
       "      <th>50%</th>\n",
       "      <td>50256.100000</td>\n",
       "      <td>50562.025000</td>\n",
       "      <td>49880.065000</td>\n",
       "      <td>50209.390000</td>\n",
       "      <td>100.321448</td>\n",
       "      <td>5.047647e+06</td>\n",
       "    </tr>\n",
       "    <tr>\n",
       "      <th>75%</th>\n",
       "      <td>51369.970000</td>\n",
       "      <td>51571.235000</td>\n",
       "      <td>50992.465000</td>\n",
       "      <td>51344.705000</td>\n",
       "      <td>208.797231</td>\n",
       "      <td>1.057747e+07</td>\n",
       "    </tr>\n",
       "    <tr>\n",
       "      <th>max</th>\n",
       "      <td>57155.420000</td>\n",
       "      <td>57652.000000</td>\n",
       "      <td>56883.270000</td>\n",
       "      <td>57044.070000</td>\n",
       "      <td>2505.855983</td>\n",
       "      <td>1.173372e+08</td>\n",
       "    </tr>\n",
       "  </tbody>\n",
       "</table>\n",
       "</div>"
      ],
      "text/plain": [
       "          OpenPrice     HighPrice      LowPrice    ClosePrice       Volume  \\\n",
       "count    168.000000    168.000000    168.000000    168.000000   168.000000   \n",
       "mean   50970.255774  51264.834345  50568.797857  50922.778571   167.736803   \n",
       "std     2856.295914   2811.397557   2944.311086   2820.272955   245.833425   \n",
       "min    46600.690000  47499.090000  41967.500000  46588.630000    13.271510   \n",
       "25%    49122.477500  49388.882500  48827.895000  49105.290000    47.980147   \n",
       "50%    50256.100000  50562.025000  49880.065000  50209.390000   100.321448   \n",
       "75%    51369.970000  51571.235000  50992.465000  51344.705000   208.797231   \n",
       "max    57155.420000  57652.000000  56883.270000  57044.070000  2505.855983   \n",
       "\n",
       "                 NA  \n",
       "count  1.680000e+02  \n",
       "mean   8.328653e+06  \n",
       "std    1.166496e+07  \n",
       "min    6.686812e+05  \n",
       "25%    2.472287e+06  \n",
       "50%    5.047647e+06  \n",
       "75%    1.057747e+07  \n",
       "max    1.173372e+08  "
      ]
     },
     "execution_count": 67,
     "metadata": {},
     "output_type": "execute_result"
    }
   ],
   "source": [
    "btc.describe()"
   ]
  },
  {
   "cell_type": "code",
   "execution_count": 52,
   "metadata": {},
   "outputs": [
    {
     "data": {
      "text/html": [
       "<div>\n",
       "<style scoped>\n",
       "    .dataframe tbody tr th:only-of-type {\n",
       "        vertical-align: middle;\n",
       "    }\n",
       "\n",
       "    .dataframe tbody tr th {\n",
       "        vertical-align: top;\n",
       "    }\n",
       "\n",
       "    .dataframe thead th {\n",
       "        text-align: right;\n",
       "    }\n",
       "</style>\n",
       "<table border=\"1\" class=\"dataframe\">\n",
       "  <thead>\n",
       "    <tr style=\"text-align: right;\">\n",
       "      <th></th>\n",
       "      <th>OpenPrice</th>\n",
       "      <th>HighPrice</th>\n",
       "      <th>LowPrice</th>\n",
       "      <th>ClosePrice</th>\n",
       "      <th>Volume</th>\n",
       "      <th>NA</th>\n",
       "    </tr>\n",
       "    <tr>\n",
       "      <th>CloseTime</th>\n",
       "      <th></th>\n",
       "      <th></th>\n",
       "      <th></th>\n",
       "      <th></th>\n",
       "      <th></th>\n",
       "      <th></th>\n",
       "    </tr>\n",
       "  </thead>\n",
       "  <tbody>\n",
       "    <tr>\n",
       "      <th>2021-12-02 16:00:00</th>\n",
       "      <td>57155.42</td>\n",
       "      <td>57413.52</td>\n",
       "      <td>56169.00</td>\n",
       "      <td>56547.29</td>\n",
       "      <td>174.115653</td>\n",
       "      <td>9.859754e+06</td>\n",
       "    </tr>\n",
       "    <tr>\n",
       "      <th>2021-12-02 17:00:00</th>\n",
       "      <td>56558.37</td>\n",
       "      <td>56798.99</td>\n",
       "      <td>56054.00</td>\n",
       "      <td>56460.03</td>\n",
       "      <td>103.136064</td>\n",
       "      <td>5.807018e+06</td>\n",
       "    </tr>\n",
       "    <tr>\n",
       "      <th>2021-12-02 18:00:00</th>\n",
       "      <td>56372.46</td>\n",
       "      <td>56718.00</td>\n",
       "      <td>56313.72</td>\n",
       "      <td>56622.62</td>\n",
       "      <td>122.384748</td>\n",
       "      <td>6.919355e+06</td>\n",
       "    </tr>\n",
       "    <tr>\n",
       "      <th>2021-12-02 19:00:00</th>\n",
       "      <td>56647.38</td>\n",
       "      <td>56772.51</td>\n",
       "      <td>56186.85</td>\n",
       "      <td>56742.43</td>\n",
       "      <td>97.338601</td>\n",
       "      <td>5.492732e+06</td>\n",
       "    </tr>\n",
       "    <tr>\n",
       "      <th>2021-12-02 20:00:00</th>\n",
       "      <td>56756.60</td>\n",
       "      <td>56972.44</td>\n",
       "      <td>56534.99</td>\n",
       "      <td>56651.52</td>\n",
       "      <td>63.202453</td>\n",
       "      <td>3.589273e+06</td>\n",
       "    </tr>\n",
       "  </tbody>\n",
       "</table>\n",
       "</div>"
      ],
      "text/plain": [
       "                     OpenPrice  HighPrice  LowPrice  ClosePrice      Volume  \\\n",
       "CloseTime                                                                     \n",
       "2021-12-02 16:00:00   57155.42   57413.52  56169.00    56547.29  174.115653   \n",
       "2021-12-02 17:00:00   56558.37   56798.99  56054.00    56460.03  103.136064   \n",
       "2021-12-02 18:00:00   56372.46   56718.00  56313.72    56622.62  122.384748   \n",
       "2021-12-02 19:00:00   56647.38   56772.51  56186.85    56742.43   97.338601   \n",
       "2021-12-02 20:00:00   56756.60   56972.44  56534.99    56651.52   63.202453   \n",
       "\n",
       "                               NA  \n",
       "CloseTime                          \n",
       "2021-12-02 16:00:00  9.859754e+06  \n",
       "2021-12-02 17:00:00  5.807018e+06  \n",
       "2021-12-02 18:00:00  6.919355e+06  \n",
       "2021-12-02 19:00:00  5.492732e+06  \n",
       "2021-12-02 20:00:00  3.589273e+06  "
      ]
     },
     "execution_count": 52,
     "metadata": {},
     "output_type": "execute_result"
    }
   ],
   "source": [
    "btc.head()"
   ]
  },
  {
   "cell_type": "code",
   "execution_count": 55,
   "metadata": {},
   "outputs": [
    {
     "data": {
      "text/plain": [
       "<AxesSubplot:xlabel='CloseTime'>"
      ]
     },
     "execution_count": 55,
     "metadata": {},
     "output_type": "execute_result"
    },
    {
     "data": {
      "image/png": "[encoded data removed]",
      "text/plain": [
       "<Figure size 1080x504 with 1 Axes>"
      ]
     },
     "metadata": {
      "needs_background": "light"
     },
     "output_type": "display_data"
    }
   ],
   "source": [
    "btc['LowPrice'].plot(figsize=(15, 7))"
   ]
  },
  {
   "cell_type": "markdown",
   "metadata": {},
   "source": [
    "**Ether:**"
   ]
  },
  {
   "cell_type": "code",
   "execution_count": 56,
   "metadata": {},
   "outputs": [
    {
     "data": {
      "text/html": [
       "<div>\n",
       "<style scoped>\n",
       "    .dataframe tbody tr th:only-of-type {\n",
       "        vertical-align: middle;\n",
       "    }\n",
       "\n",
       "    .dataframe tbody tr th {\n",
       "        vertical-align: top;\n",
       "    }\n",
       "\n",
       "    .dataframe thead th {\n",
       "        text-align: right;\n",
       "    }\n",
       "</style>\n",
       "<table border=\"1\" class=\"dataframe\">\n",
       "  <thead>\n",
       "    <tr style=\"text-align: right;\">\n",
       "      <th></th>\n",
       "      <th>OpenPrice</th>\n",
       "      <th>HighPrice</th>\n",
       "      <th>LowPrice</th>\n",
       "      <th>ClosePrice</th>\n",
       "      <th>Volume</th>\n",
       "      <th>NA</th>\n",
       "    </tr>\n",
       "    <tr>\n",
       "      <th>CloseTime</th>\n",
       "      <th></th>\n",
       "      <th></th>\n",
       "      <th></th>\n",
       "      <th></th>\n",
       "      <th></th>\n",
       "      <th></th>\n",
       "    </tr>\n",
       "  </thead>\n",
       "  <tbody>\n",
       "    <tr>\n",
       "      <th>2021-12-02 16:00:00</th>\n",
       "      <td>4597.83</td>\n",
       "      <td>4638.70</td>\n",
       "      <td>4505.62</td>\n",
       "      <td>4545.94</td>\n",
       "      <td>684.806603</td>\n",
       "      <td>3.123398e+06</td>\n",
       "    </tr>\n",
       "    <tr>\n",
       "      <th>2021-12-02 17:00:00</th>\n",
       "      <td>4548.42</td>\n",
       "      <td>4556.45</td>\n",
       "      <td>4459.74</td>\n",
       "      <td>4487.94</td>\n",
       "      <td>834.789341</td>\n",
       "      <td>3.751138e+06</td>\n",
       "    </tr>\n",
       "    <tr>\n",
       "      <th>2021-12-02 18:00:00</th>\n",
       "      <td>4484.39</td>\n",
       "      <td>4511.71</td>\n",
       "      <td>4478.64</td>\n",
       "      <td>4496.86</td>\n",
       "      <td>1005.649398</td>\n",
       "      <td>4.522788e+06</td>\n",
       "    </tr>\n",
       "    <tr>\n",
       "      <th>2021-12-02 19:00:00</th>\n",
       "      <td>4495.52</td>\n",
       "      <td>4495.52</td>\n",
       "      <td>4435.00</td>\n",
       "      <td>4483.22</td>\n",
       "      <td>1516.811486</td>\n",
       "      <td>6.770376e+06</td>\n",
       "    </tr>\n",
       "    <tr>\n",
       "      <th>2021-12-02 20:00:00</th>\n",
       "      <td>4483.63</td>\n",
       "      <td>4509.50</td>\n",
       "      <td>4479.47</td>\n",
       "      <td>4493.15</td>\n",
       "      <td>1455.628654</td>\n",
       "      <td>6.539106e+06</td>\n",
       "    </tr>\n",
       "  </tbody>\n",
       "</table>\n",
       "</div>"
      ],
      "text/plain": [
       "                     OpenPrice  HighPrice  LowPrice  ClosePrice       Volume  \\\n",
       "CloseTime                                                                      \n",
       "2021-12-02 16:00:00    4597.83    4638.70   4505.62     4545.94   684.806603   \n",
       "2021-12-02 17:00:00    4548.42    4556.45   4459.74     4487.94   834.789341   \n",
       "2021-12-02 18:00:00    4484.39    4511.71   4478.64     4496.86  1005.649398   \n",
       "2021-12-02 19:00:00    4495.52    4495.52   4435.00     4483.22  1516.811486   \n",
       "2021-12-02 20:00:00    4483.63    4509.50   4479.47     4493.15  1455.628654   \n",
       "\n",
       "                               NA  \n",
       "CloseTime                          \n",
       "2021-12-02 16:00:00  3.123398e+06  \n",
       "2021-12-02 17:00:00  3.751138e+06  \n",
       "2021-12-02 18:00:00  4.522788e+06  \n",
       "2021-12-02 19:00:00  6.770376e+06  \n",
       "2021-12-02 20:00:00  6.539106e+06  "
      ]
     },
     "execution_count": 56,
     "metadata": {},
     "output_type": "execute_result"
    }
   ],
   "source": [
    "eth.head()"
   ]
  },
  {
   "cell_type": "code",
   "execution_count": 73,
   "metadata": {},
   "outputs": [
    {
     "data": {
      "text/plain": [
       "(168, 6)"
      ]
     },
     "execution_count": 73,
     "metadata": {},
     "output_type": "execute_result"
    }
   ],
   "source": [
    "eth.shape"
   ]
  },
  {
   "cell_type": "code",
   "execution_count": 57,
   "metadata": {},
   "outputs": [
    {
     "data": {
      "text/plain": [
       "<AxesSubplot:xlabel='CloseTime'>"
      ]
     },
     "execution_count": 57,
     "metadata": {},
     "output_type": "execute_result"
    },
    {
     "data": {
      "image/png": "[encoded data removed]",
      "text/plain": [
       "<Figure size 1080x504 with 1 Axes>"
      ]
     },
     "metadata": {
      "needs_background": "light"
     },
     "output_type": "display_data"
    }
   ],
   "source": [
    "eth['ClosePrice'].plot(figsize=(15, 7))"
   ]
  },
  {
   "cell_type": "markdown",
   "metadata": {},
   "source": [
    "As you can see, we're able to pull data from the internet with just a few lines, create a DataFrame and plot it all within Jupyter Lab."
   ]
  },
  {
   "cell_type": "code",
   "execution_count": null,
   "metadata": {},
   "outputs": [],
   "source": [
    "eth.head()"
   ]
  },
  {
   "cell_type": "markdown",
   "metadata": {},
   "source": [
    "![green-divider](https://user-images.githubusercontent.com/7065401/52071924-c003ad80-2562-11e9-8297-1c6595f8a7ff.png)\n",
    "\n",
    "### Bonus: Dynamic plots with Bokeh\n",
    "\n",
    "We've also included [Bokeh](https://bokeh.pydata.org/) as part of this main distribution. Bokeh is a plotting library that generates interactive plots, that can be manipulated right within your browser.\n",
    "\n",
    "We first need to import the libraries:"
   ]
  },
  {
   "cell_type": "code",
   "execution_count": 62,
   "metadata": {},
   "outputs": [],
   "source": [
    "from bokeh.plotting import figure, output_file, show\n",
    "from bokeh.io import output_notebook"
   ]
  },
  {
   "cell_type": "code",
   "execution_count": 63,
   "metadata": {},
   "outputs": [
    {
     "data": {
      "text/html": [
       "\n",
       "    <div class=\"bk-root\">\n",
       "        <a href=\"https://bokeh.org\" target=\"_blank\" class=\"bk-logo bk-logo-small bk-logo-notebook\"></a>\n",
       "        <span id=\"1002\">Loading BokehJS ...</span>\n",
       "    </div>"
      ]
     },
     "metadata": {},
     "output_type": "display_data"
    },
    {
     "data": {
      "application/javascript": [
       "\n",
       "(function(root) {\n",
       "  function now() {\n",
       "    return new Date();\n",
       "  }\n",
       "\n",
       "  const force = true;\n",
       "\n",
       "  if (typeof root._bokeh_onload_callbacks === \"undefined\" || force === true) {\n",
       "    root._bokeh_onload_callbacks = [];\n",
       "    root._bokeh_is_loading = undefined;\n",
       "  }\n",
       "\n",
       "  const JS_MIME_TYPE = 'application/javascript';\n",
       "  const HTML_MIME_TYPE = 'text/html';\n",
       "  const EXEC_MIME_TYPE = 'application/vnd.bokehjs_exec.v0+json';\n",
       "  const CLASS_NAME = 'output_bokeh rendered_html';\n",
       "\n",
       "  /**\n",
       "   * Render data to the DOM node\n",
       "   */\n",
       "  function render(props, node) {\n",
       "    const script = document.createElement(\"script\");\n",
       "    node.appendChild(script);\n",
       "  }\n",
       "\n",
       "  /**\n",
       "   * Handle when an output is cleared or removed\n",
       "   */\n",
       "  function handleClearOutput(event, handle) {\n",
       "    const cell = handle.cell;\n",
       "\n",
       "    const id = cell.output_area._bokeh_element_id;\n",
       "    const server_id = cell.output_area._bokeh_server_id;\n",
       "    // Clean up Bokeh references\n",
       "    if (id != null && id in Bokeh.index) {\n",
       "      Bokeh.index[id].model.document.clear();\n",
       "      delete Bokeh.index[id];\n",
       "    }\n",
       "\n",
       "    if (server_id !== undefined) {\n",
       "      // Clean up Bokeh references\n",
       "      const cmd_clean = \"from bokeh.io.state import curstate; print(curstate().uuid_to_server['\" + server_id + \"'].get_sessions()[0].document.roots[0]._id)\";\n",
       "      cell.notebook.kernel.execute(cmd_clean, {\n",
       "        iopub: {\n",
       "          output: function(msg) {\n",
       "            const id = msg.content.text.trim();\n",
       "            if (id in Bokeh.index) {\n",
       "              Bokeh.index[id].model.document.clear();\n",
       "              delete Bokeh.index[id];\n",
       "            }\n",
       "          }\n",
       "        }\n",
       "      });\n",
       "      // Destroy server and session\n",
       "      const cmd_destroy = \"import bokeh.io.notebook as ion; ion.destroy_server('\" + server_id + \"')\";\n",
       "      cell.notebook.kernel.execute(cmd_destroy);\n",
       "    }\n",
       "  }\n",
       "\n",
       "  /**\n",
       "   * Handle when a new output is added\n",
       "   */\n",
       "  function handleAddOutput(event, handle) {\n",
       "    const output_area = handle.output_area;\n",
       "    const output = handle.output;\n",
       "\n",
       "    // limit handleAddOutput to display_data with EXEC_MIME_TYPE content only\n",
       "    if ((output.output_type != \"display_data\") || (!Object.prototype.hasOwnProperty.call(output.data, EXEC_MIME_TYPE))) {\n",
       "      return\n",
       "    }\n",
       "\n",
       "    const toinsert = output_area.element.find(\".\" + CLASS_NAME.split(' ')[0]);\n",
       "\n",
       "    if (output.metadata[EXEC_MIME_TYPE][\"id\"] !== undefined) {\n",
       "      toinsert[toinsert.length - 1].firstChild.textContent = output.data[JS_MIME_TYPE];\n",
       "      // store reference to embed id on output_area\n",
       "      output_area._bokeh_element_id = output.metadata[EXEC_MIME_TYPE][\"id\"];\n",
       "    }\n",
       "    if (output.metadata[EXEC_MIME_TYPE][\"server_id\"] !== undefined) {\n",
       "      const bk_div = document.createElement(\"div\");\n",
       "      bk_div.innerHTML = output.data[HTML_MIME_TYPE];\n",
       "      const script_attrs = bk_div.children[0].attributes;\n",
       "      for (let i = 0; i < script_attrs.length; i++) {\n",
       "        toinsert[toinsert.length - 1].firstChild.setAttribute(script_attrs[i].name, script_attrs[i].value);\n",
       "        toinsert[toinsert.length - 1].firstChild.textContent = bk_div.children[0].textContent\n",
       "      }\n",
       "      // store reference to server id on output_area\n",
       "      output_area._bokeh_server_id = output.metadata[EXEC_MIME_TYPE][\"server_id\"];\n",
       "    }\n",
       "  }\n",
       "\n",
       "  function register_renderer(events, OutputArea) {\n",
       "\n",
       "    function append_mime(data, metadata, element) {\n",
       "      // create a DOM node to render to\n",
       "      const toinsert = this.create_output_subarea(\n",
       "        metadata,\n",
       "        CLASS_NAME,\n",
       "        EXEC_MIME_TYPE\n",
       "      );\n",
       "      this.keyboard_manager.register_events(toinsert);\n",
       "      // Render to node\n",
       "      const props = {data: data, metadata: metadata[EXEC_MIME_TYPE]};\n",
       "      render(props, toinsert[toinsert.length - 1]);\n",
       "      element.append(toinsert);\n",
       "      return toinsert\n",
       "    }\n",
       "\n",
       "    /* Handle when an output is cleared or removed */\n",
       "    events.on('clear_output.CodeCell', handleClearOutput);\n",
       "    events.on('delete.Cell', handleClearOutput);\n",
       "\n",
       "    /* Handle when a new output is added */\n",
       "    events.on('output_added.OutputArea', handleAddOutput);\n",
       "\n",
       "    /**\n",
       "     * Register the mime type and append_mime function with output_area\n",
       "     */\n",
       "    OutputArea.prototype.register_mime_type(EXEC_MIME_TYPE, append_mime, {\n",
       "      /* Is output safe? */\n",
       "      safe: true,\n",
       "      /* Index of renderer in `output_area.display_order` */\n",
       "      index: 0\n",
       "    });\n",
       "  }\n",
       "\n",
       "  // register the mime type if in Jupyter Notebook environment and previously unregistered\n",
       "  if (root.Jupyter !== undefined) {\n",
       "    const events = require('base/js/events');\n",
       "    const OutputArea = require('notebook/js/outputarea').OutputArea;\n",
       "\n",
       "    if (OutputArea.prototype.mime_types().indexOf(EXEC_MIME_TYPE) == -1) {\n",
       "      register_renderer(events, OutputArea);\n",
       "    }\n",
       "  }\n",
       "\n",
       "  \n",
       "  if (typeof (root._bokeh_timeout) === \"undefined\" || force === true) {\n",
       "    root._bokeh_timeout = Date.now() + 5000;\n",
       "    root._bokeh_failed_load = false;\n",
       "  }\n",
       "\n",
       "  const NB_LOAD_WARNING = {'data': {'text/html':\n",
       "     \"<div style='background-color: #fdd'>\\n\"+\n",
       "     \"<p>\\n\"+\n",
       "     \"BokehJS does not appear to have successfully loaded. If loading BokehJS from CDN, this \\n\"+\n",
       "     \"may be due to a slow or bad network connection. Possible fixes:\\n\"+\n",
       "     \"</p>\\n\"+\n",
       "     \"<ul>\\n\"+\n",
       "     \"<li>re-rerun `output_notebook()` to attempt to load from CDN again, or</li>\\n\"+\n",
       "     \"<li>use INLINE resources instead, as so:</li>\\n\"+\n",
       "     \"</ul>\\n\"+\n",
       "     \"<code>\\n\"+\n",
       "     \"from bokeh.resources import INLINE\\n\"+\n",
       "     \"output_notebook(resources=INLINE)\\n\"+\n",
       "     \"</code>\\n\"+\n",
       "     \"</div>\"}};\n",
       "\n",
       "  function display_loaded() {\n",
       "    const el = document.getElementById(\"1002\");\n",
       "    if (el != null) {\n",
       "      el.textContent = \"BokehJS is loading...\";\n",
       "    }\n",
       "    if (root.Bokeh !== undefined) {\n",
       "      if (el != null) {\n",
       "        el.textContent = \"BokehJS \" + root.Bokeh.version + \" successfully loaded.\";\n",
       "      }\n",
       "    } else if (Date.now() < root._bokeh_timeout) {\n",
       "      setTimeout(display_loaded, 100)\n",
       "    }\n",
       "  }\n",
       "\n",
       "\n",
       "  function run_callbacks() {\n",
       "    try {\n",
       "      root._bokeh_onload_callbacks.forEach(function(callback) {\n",
       "        if (callback != null)\n",
       "          callback();\n",
       "      });\n",
       "    } finally {\n",
       "      delete root._bokeh_onload_callbacks\n",
       "    }\n",
       "    console.debug(\"Bokeh: all callbacks have finished\");\n",
       "  }\n",
       "\n",
       "  function load_libs(css_urls, js_urls, callback) {\n",
       "    if (css_urls == null) css_urls = [];\n",
       "    if (js_urls == null) js_urls = [];\n",
       "\n",
       "    root._bokeh_onload_callbacks.push(callback);\n",
       "    if (root._bokeh_is_loading > 0) {\n",
       "      console.debug(\"Bokeh: BokehJS is being loaded, scheduling callback at\", now());\n",
       "      return null;\n",
       "    }\n",
       "    if (js_urls == null || js_urls.length === 0) {\n",
       "      run_callbacks();\n",
       "      return null;\n",
       "    }\n",
       "    console.debug(\"Bokeh: BokehJS not loaded, scheduling load and callback at\", now());\n",
       "    root._bokeh_is_loading = css_urls.length + js_urls.length;\n",
       "\n",
       "    function on_load() {\n",
       "      root._bokeh_is_loading--;\n",
       "      if (root._bokeh_is_loading === 0) {\n",
       "        console.debug(\"Bokeh: all BokehJS libraries/stylesheets loaded\");\n",
       "        run_callbacks()\n",
       "      }\n",
       "    }\n",
       "\n",
       "    function on_error(url) {\n",
       "      console.error(\"failed to load \" + url);\n",
       "    }\n",
       "\n",
       "    for (let i = 0; i < css_urls.length; i++) {\n",
       "      const url = css_urls[i];\n",
       "      const element = document.createElement(\"link\");\n",
       "      element.onload = on_load;\n",
       "      element.onerror = on_error.bind(null, url);\n",
       "      element.rel = \"stylesheet\";\n",
       "      element.type = \"text/css\";\n",
       "      element.href = url;\n",
       "      console.debug(\"Bokeh: injecting link tag for BokehJS stylesheet: \", url);\n",
       "      document.body.appendChild(element);\n",
       "    }\n",
       "\n",
       "    for (let i = 0; i < js_urls.length; i++) {\n",
       "      const url = js_urls[i];\n",
       "      const element = document.createElement('script');\n",
       "      element.onload = on_load;\n",
       "      element.onerror = on_error.bind(null, url);\n",
       "      element.async = false;\n",
       "      element.src = url;\n",
       "      console.debug(\"Bokeh: injecting script tag for BokehJS library: \", url);\n",
       "      document.head.appendChild(element);\n",
       "    }\n",
       "  };\n",
       "\n",
       "  function inject_raw_css(css) {\n",
       "    const element = document.createElement(\"style\");\n",
       "    element.appendChild(document.createTextNode(css));\n",
       "    document.body.appendChild(element);\n",
       "  }\n",
       "\n",
       "  \n",
       "  const js_urls = [\"https://cdn.bokeh.org/bokeh/release/bokeh-2.4.2.min.js\", \"https://cdn.bokeh.org/bokeh/release/bokeh-gl-2.4.2.min.js\", \"https://cdn.bokeh.org/bokeh/release/bokeh-widgets-2.4.2.min.js\", \"https://cdn.bokeh.org/bokeh/release/bokeh-tables-2.4.2.min.js\", \"https://cdn.bokeh.org/bokeh/release/bokeh-mathjax-2.4.2.min.js\"];\n",
       "  const css_urls = [];\n",
       "  \n",
       "\n",
       "  const inline_js = [\n",
       "    function(Bokeh) {\n",
       "      Bokeh.set_log_level(\"info\");\n",
       "    },\n",
       "    function(Bokeh) {\n",
       "    \n",
       "    \n",
       "    }\n",
       "  ];\n",
       "\n",
       "  function run_inline_js() {\n",
       "    \n",
       "    if (root.Bokeh !== undefined || force === true) {\n",
       "      \n",
       "    for (let i = 0; i < inline_js.length; i++) {\n",
       "      inline_js[i].call(root, root.Bokeh);\n",
       "    }\n",
       "    if (force === true) {\n",
       "        display_loaded();\n",
       "      }} else if (Date.now() < root._bokeh_timeout) {\n",
       "      setTimeout(run_inline_js, 100);\n",
       "    } else if (!root._bokeh_failed_load) {\n",
       "      console.log(\"Bokeh: BokehJS failed to load within specified timeout.\");\n",
       "      root._bokeh_failed_load = true;\n",
       "    } else if (force !== true) {\n",
       "      const cell = $(document.getElementById(\"1002\")).parents('.cell').data().cell;\n",
       "      cell.output_area.append_execute_result(NB_LOAD_WARNING)\n",
       "    }\n",
       "\n",
       "  }\n",
       "\n",
       "  if (root._bokeh_is_loading === 0) {\n",
       "    console.debug(\"Bokeh: BokehJS loaded, going straight to plotting\");\n",
       "    run_inline_js();\n",
       "  } else {\n",
       "    load_libs(css_urls, js_urls, function() {\n",
       "      console.debug(\"Bokeh: BokehJS plotting callback run at\", now());\n",
       "      run_inline_js();\n",
       "    });\n",
       "  }\n",
       "}(window));"
      ],
      "application/vnd.bokehjs_load.v0+json": "\n(function(root) {\n  function now() {\n    return new Date();\n  }\n\n  const force = true;\n\n  if (typeof root._bokeh_onload_callbacks === \"undefined\" || force === true) {\n    root._bokeh_onload_callbacks = [];\n    root._bokeh_is_loading = undefined;\n  }\n\n  \n\n  \n  if (typeof (root._bokeh_timeout) === \"undefined\" || force === true) {\n    root._bokeh_timeout = Date.now() + 5000;\n    root._bokeh_failed_load = false;\n  }\n\n  const NB_LOAD_WARNING = {'data': {'text/html':\n     \"<div style='background-color: #fdd'>\\n\"+\n     \"<p>\\n\"+\n     \"BokehJS does not appear to have successfully loaded. If loading BokehJS from CDN, this \\n\"+\n     \"may be due to a slow or bad network connection. Possible fixes:\\n\"+\n     \"</p>\\n\"+\n     \"<ul>\\n\"+\n     \"<li>re-rerun `output_notebook()` to attempt to load from CDN again, or</li>\\n\"+\n     \"<li>use INLINE resources instead, as so:</li>\\n\"+\n     \"</ul>\\n\"+\n     \"<code>\\n\"+\n     \"from bokeh.resources import INLINE\\n\"+\n     \"output_notebook(resources=INLINE)\\n\"+\n     \"</code>\\n\"+\n     \"</div>\"}};\n\n  function display_loaded() {\n    const el = document.getElementById(\"1002\");\n    if (el != null) {\n      el.textContent = \"BokehJS is loading...\";\n    }\n    if (root.Bokeh !== undefined) {\n      if (el != null) {\n        el.textContent = \"BokehJS \" + root.Bokeh.version + \" successfully loaded.\";\n      }\n    } else if (Date.now() < root._bokeh_timeout) {\n      setTimeout(display_loaded, 100)\n    }\n  }\n\n\n  function run_callbacks() {\n    try {\n      root._bokeh_onload_callbacks.forEach(function(callback) {\n        if (callback != null)\n          callback();\n      });\n    } finally {\n      delete root._bokeh_onload_callbacks\n    }\n    console.debug(\"Bokeh: all callbacks have finished\");\n  }\n\n  function load_libs(css_urls, js_urls, callback) {\n    if (css_urls == null) css_urls = [];\n    if (js_urls == null) js_urls = [];\n\n    root._bokeh_onload_callbacks.push(callback);\n    if (root._bokeh_is_loading > 0) {\n      console.debug(\"Bokeh: BokehJS is being loaded, scheduling callback at\", now());\n      return null;\n    }\n    if (js_urls == null || js_urls.length === 0) {\n      run_callbacks();\n      return null;\n    }\n    console.debug(\"Bokeh: BokehJS not loaded, scheduling load and callback at\", now());\n    root._bokeh_is_loading = css_urls.length + js_urls.length;\n\n    function on_load() {\n      root._bokeh_is_loading--;\n      if (root._bokeh_is_loading === 0) {\n        console.debug(\"Bokeh: all BokehJS libraries/stylesheets loaded\");\n        run_callbacks()\n      }\n    }\n\n    function on_error(url) {\n      console.error(\"failed to load \" + url);\n    }\n\n    for (let i = 0; i < css_urls.length; i++) {\n      const url = css_urls[i];\n      const element = document.createElement(\"link\");\n      element.onload = on_load;\n      element.onerror = on_error.bind(null, url);\n      element.rel = \"stylesheet\";\n      element.type = \"text/css\";\n      element.href = url;\n      console.debug(\"Bokeh: injecting link tag for BokehJS stylesheet: \", url);\n      document.body.appendChild(element);\n    }\n\n    for (let i = 0; i < js_urls.length; i++) {\n      const url = js_urls[i];\n      const element = document.createElement('script');\n      element.onload = on_load;\n      element.onerror = on_error.bind(null, url);\n      element.async = false;\n      element.src = url;\n      console.debug(\"Bokeh: injecting script tag for BokehJS library: \", url);\n      document.head.appendChild(element);\n    }\n  };\n\n  function inject_raw_css(css) {\n    const element = document.createElement(\"style\");\n    element.appendChild(document.createTextNode(css));\n    document.body.appendChild(element);\n  }\n\n  \n  const js_urls = [\"https://cdn.bokeh.org/bokeh/release/bokeh-2.4.2.min.js\", \"https://cdn.bokeh.org/bokeh/release/bokeh-gl-2.4.2.min.js\", \"https://cdn.bokeh.org/bokeh/release/bokeh-widgets-2.4.2.min.js\", \"https://cdn.bokeh.org/bokeh/release/bokeh-tables-2.4.2.min.js\", \"https://cdn.bokeh.org/bokeh/release/bokeh-mathjax-2.4.2.min.js\"];\n  const css_urls = [];\n  \n\n  const inline_js = [\n    function(Bokeh) {\n      Bokeh.set_log_level(\"info\");\n    },\n    function(Bokeh) {\n    \n    \n    }\n  ];\n\n  function run_inline_js() {\n    \n    if (root.Bokeh !== undefined || force === true) {\n      \n    for (let i = 0; i < inline_js.length; i++) {\n      inline_js[i].call(root, root.Bokeh);\n    }\n    if (force === true) {\n        display_loaded();\n      }} else if (Date.now() < root._bokeh_timeout) {\n      setTimeout(run_inline_js, 100);\n    } else if (!root._bokeh_failed_load) {\n      console.log(\"Bokeh: BokehJS failed to load within specified timeout.\");\n      root._bokeh_failed_load = true;\n    } else if (force !== true) {\n      const cell = $(document.getElementById(\"1002\")).parents('.cell').data().cell;\n      cell.output_area.append_execute_result(NB_LOAD_WARNING)\n    }\n\n  }\n\n  if (root._bokeh_is_loading === 0) {\n    console.debug(\"Bokeh: BokehJS loaded, going straight to plotting\");\n    run_inline_js();\n  } else {\n    load_libs(css_urls, js_urls, function() {\n      console.debug(\"Bokeh: BokehJS plotting callback run at\", now());\n      run_inline_js();\n    });\n  }\n}(window));"
     },
     "metadata": {},
     "output_type": "display_data"
    }
   ],
   "source": [
    "output_notebook()"
   ]
  },
  {
   "cell_type": "markdown",
   "metadata": {},
   "source": [
    "And we generate the plot:"
   ]
  },
  {
   "cell_type": "code",
   "execution_count": 64,
   "metadata": {},
   "outputs": [
    {
     "name": "stderr",
     "output_type": "stream",
     "text": [
      "BokehDeprecationWarning: 'legend' keyword is deprecated, use explicit 'legend_label', 'legend_field', or 'legend_group' keywords instead\n"
     ]
    },
    {
     "data": {
      "text/html": [
       "\n",
       "\n",
       "\n",
       "\n",
       "\n",
       "\n",
       "  <div class=\"bk-root\" id=\"a0e9173d-674a-4611-9851-bd08887419e5\" data-root-id=\"1003\"></div>\n"
      ]
     },
     "metadata": {},
     "output_type": "display_data"
    },
    {
     "data": {
      "application/javascript": [
       "(function(root) {\n",
       "  function embed_document(root) {\n",
       "    \n",
       "  const docs_json = {\"a098b03c-c8f4-4515-b356-ecad7a793adb\":{\"defs\":[],\"roots\":{\"references\":[{\"attributes\":{\"below\":[{\"id\":\"1014\"}],\"center\":[{\"id\":\"1017\"},{\"id\":\"1021\"},{\"id\":\"1064\"}],\"left\":[{\"id\":\"1018\"}],\"renderers\":[{\"id\":\"1040\"}],\"title\":{\"id\":\"1004\"},\"toolbar\":{\"id\":\"1029\"},\"width\":800,\"x_range\":{\"id\":\"1006\"},\"x_scale\":{\"id\":\"1010\"},\"y_range\":{\"id\":\"1008\"},\"y_scale\":{\"id\":\"1012\"}},\"id\":\"1003\",\"subtype\":\"Figure\",\"type\":\"Plot\"},{\"attributes\":{\"num_minor_ticks\":5,\"tickers\":[{\"id\":\"1052\"},{\"id\":\"1053\"},{\"id\":\"1054\"},{\"id\":\"1055\"},{\"id\":\"1056\"},{\"id\":\"1057\"},{\"id\":\"1058\"},{\"id\":\"1059\"},{\"id\":\"1060\"},{\"id\":\"1061\"},{\"id\":\"1062\"},{\"id\":\"1063\"}]},\"id\":\"1015\",\"type\":\"DatetimeTicker\"},{\"attributes\":{\"coordinates\":null,\"group\":null,\"text\":\"Crypto Prices\"},\"id\":\"1004\",\"type\":\"Title\"},{\"attributes\":{},\"id\":\"1050\",\"type\":\"Selection\"},{\"attributes\":{},\"id\":\"1006\",\"type\":\"DataRange1d\"},{\"attributes\":{\"axis\":{\"id\":\"1014\"},\"coordinates\":null,\"grid_line_alpha\":0.3,\"group\":null,\"ticker\":null},\"id\":\"1017\",\"type\":\"Grid\"},{\"attributes\":{},\"id\":\"1049\",\"type\":\"UnionRenderers\"},{\"attributes\":{},\"id\":\"1012\",\"type\":\"LinearScale\"},{\"attributes\":{},\"id\":\"1008\",\"type\":\"DataRange1d\"},{\"attributes\":{},\"id\":\"1048\",\"type\":\"AllLabels\"},{\"attributes\":{\"line_alpha\":0.2,\"line_color\":\"#f2a900\",\"x\":{\"field\":\"x\"},\"y\":{\"field\":\"y\"}},\"id\":\"1039\",\"type\":\"Line\"},{\"attributes\":{\"months\":[0,4,8]},\"id\":\"1061\",\"type\":\"MonthsTicker\"},{\"attributes\":{\"label\":{\"value\":\"Bitcoin\"},\"renderers\":[{\"id\":\"1040\"}]},\"id\":\"1065\",\"type\":\"LegendItem\"},{\"attributes\":{\"axis_label\":\"Price\",\"coordinates\":null,\"formatter\":{\"id\":\"1044\"},\"group\":null,\"major_label_policy\":{\"id\":\"1045\"},\"ticker\":{\"id\":\"1019\"}},\"id\":\"1018\",\"type\":\"LinearAxis\"},{\"attributes\":{},\"id\":\"1022\",\"type\":\"PanTool\"},{\"attributes\":{\"axis\":{\"id\":\"1018\"},\"coordinates\":null,\"dimension\":1,\"grid_line_alpha\":0.3,\"group\":null,\"ticker\":null},\"id\":\"1021\",\"type\":\"Grid\"},{\"attributes\":{},\"id\":\"1019\",\"type\":\"BasicTicker\"},{\"attributes\":{},\"id\":\"1023\",\"type\":\"WheelZoomTool\"},{\"attributes\":{\"tools\":[{\"id\":\"1022\"},{\"id\":\"1023\"},{\"id\":\"1024\"},{\"id\":\"1025\"},{\"id\":\"1026\"},{\"id\":\"1027\"}]},\"id\":\"1029\",\"type\":\"Toolbar\"},{\"attributes\":{},\"id\":\"1044\",\"type\":\"BasicTickFormatter\"},{\"attributes\":{\"overlay\":{\"id\":\"1028\"}},\"id\":\"1024\",\"type\":\"BoxZoomTool\"},{\"attributes\":{},\"id\":\"1025\",\"type\":\"SaveTool\"},{\"attributes\":{},\"id\":\"1047\",\"type\":\"DatetimeTickFormatter\"},{\"attributes\":{},\"id\":\"1026\",\"type\":\"ResetTool\"},{\"attributes\":{\"coordinates\":null,\"data_source\":{\"id\":\"1036\"},\"glyph\":{\"id\":\"1037\"},\"group\":null,\"hover_glyph\":null,\"muted_glyph\":{\"id\":\"1039\"},\"nonselection_glyph\":{\"id\":\"1038\"},\"view\":{\"id\":\"1041\"}},\"id\":\"1040\",\"type\":\"GlyphRenderer\"},{\"attributes\":{\"bottom_units\":\"screen\",\"coordinates\":null,\"fill_alpha\":0.5,\"fill_color\":\"lightgrey\",\"group\":null,\"left_units\":\"screen\",\"level\":\"overlay\",\"line_alpha\":1.0,\"line_color\":\"black\",\"line_dash\":[4,4],\"line_width\":2,\"right_units\":\"screen\",\"syncable\":false,\"top_units\":\"screen\"},\"id\":\"1028\",\"type\":\"BoxAnnotation\"},{\"attributes\":{},\"id\":\"1027\",\"type\":\"HelpTool\"},{\"attributes\":{\"mantissas\":[1,2,5],\"max_interval\":500.0,\"num_minor_ticks\":0},\"id\":\"1052\",\"type\":\"AdaptiveTicker\"},{\"attributes\":{\"source\":{\"id\":\"1036\"}},\"id\":\"1041\",\"type\":\"CDSView\"},{\"attributes\":{},\"id\":\"1045\",\"type\":\"AllLabels\"},{\"attributes\":{\"base\":60,\"mantissas\":[1,2,5,10,15,20,30],\"max_interval\":1800000.0,\"min_interval\":1000.0,\"num_minor_ticks\":0},\"id\":\"1053\",\"type\":\"AdaptiveTicker\"},{\"attributes\":{\"days\":[1,8,15,22]},\"id\":\"1057\",\"type\":\"DaysTicker\"},{\"attributes\":{\"base\":24,\"mantissas\":[1,2,4,6,8,12],\"max_interval\":43200000.0,\"min_interval\":3600000.0,\"num_minor_ticks\":0},\"id\":\"1054\",\"type\":\"AdaptiveTicker\"},{\"attributes\":{},\"id\":\"1063\",\"type\":\"YearsTicker\"},{\"attributes\":{\"days\":[1,4,7,10,13,16,19,22,25,28]},\"id\":\"1056\",\"type\":\"DaysTicker\"},{\"attributes\":{\"days\":[1,2,3,4,5,6,7,8,9,10,11,12,13,14,15,16,17,18,19,20,21,22,23,24,25,26,27,28,29,30,31]},\"id\":\"1055\",\"type\":\"DaysTicker\"},{\"attributes\":{\"months\":[0,6]},\"id\":\"1062\",\"type\":\"MonthsTicker\"},{\"attributes\":{\"days\":[1,15]},\"id\":\"1058\",\"type\":\"DaysTicker\"},{\"attributes\":{\"months\":[0,1,2,3,4,5,6,7,8,9,10,11]},\"id\":\"1059\",\"type\":\"MonthsTicker\"},{\"attributes\":{\"coordinates\":null,\"group\":null,\"items\":[{\"id\":\"1065\"}],\"location\":\"top_left\"},\"id\":\"1064\",\"type\":\"Legend\"},{\"attributes\":{\"months\":[0,2,4,6,8,10]},\"id\":\"1060\",\"type\":\"MonthsTicker\"},{\"attributes\":{\"line_alpha\":0.1,\"line_color\":\"#f2a900\",\"x\":{\"field\":\"x\"},\"y\":{\"field\":\"y\"}},\"id\":\"1038\",\"type\":\"Line\"},{\"attributes\":{\"line_color\":\"#f2a900\",\"x\":{\"field\":\"x\"},\"y\":{\"field\":\"y\"}},\"id\":\"1037\",\"type\":\"Line\"},{\"attributes\":{},\"id\":\"1010\",\"type\":\"LinearScale\"},{\"attributes\":{\"axis_label\":\"Date\",\"coordinates\":null,\"formatter\":{\"id\":\"1047\"},\"group\":null,\"major_label_policy\":{\"id\":\"1048\"},\"ticker\":{\"id\":\"1015\"}},\"id\":\"1014\",\"type\":\"DatetimeAxis\"},{\"attributes\":{\"data\":{\"x\":{\"__ndarray__\":\"AADA+73Xd0IAAKhqwdd3QgAAkNnE13dCAAB4SMjXd0IAAGC3y9d3QgAASCbP13dCAAAwldLXd0IAABgE1td3QgAAAHPZ13dCAADo4dzXd0IAANBQ4Nd3QgAAuL/j13dCAACgLufXd0IAAIid6td3QgAAcAzu13dCAABYe/HXd0IAAEDq9Nd3QgAAKFn413dCAAAQyPvXd0IAAPg2/9d3QgAA4KUC2HdCAADIFAbYd0IAALCDCdh3QgAAmPIM2HdCAACAYRDYd0IAAGjQE9h3QgAAUD8X2HdCAAA4rhrYd0IAACAdHth3QgAACIwh2HdCAADw+iTYd0IAANhpKNh3QgAAwNgr2HdCAACoRy/Yd0IAAJC2Mth3QgAAeCU22HdCAABglDnYd0IAAEgDPdh3QgAAMHJA2HdCAAAY4UPYd0IAAABQR9h3QgAA6L5K2HdCAADQLU7Yd0IAALicUdh3QgAAoAtV2HdCAACIeljYd0IAAHDpW9h3QgAAWFhf2HdCAABAx2LYd0IAACg2Zth3QgAAEKVp2HdCAAD4E23Yd0IAAOCCcNh3QgAAyPFz2HdCAACwYHfYd0IAAJjPeth3QgAAgD5+2HdCAABorYHYd0IAAFAchdh3QgAAOIuI2HdCAAAg+ovYd0IAAAhpj9h3QgAA8NeS2HdCAADYRpbYd0IAAMC1mdh3QgAAqCSd2HdCAACQk6DYd0IAAHgCpNh3QgAAYHGn2HdCAABI4KrYd0IAADBPrth3QgAAGL6x2HdCAAAALbXYd0IAAOibuNh3QgAA0Aq82HdCAAC4eb/Yd0IAAKDowth3QgAAiFfG2HdCAABwxsnYd0IAAFg1zdh3QgAAQKTQ2HdCAAAoE9TYd0IAABCC19h3QgAA+PDa2HdCAADgX97Yd0IAAMjO4dh3QgAAsD3l2HdCAACYrOjYd0IAAIAb7Nh3QgAAaIrv2HdCAABQ+fLYd0IAADho9th3QgAAINf52HdCAAAIRv3Yd0IAAPC0ANl3QgAA2CME2XdCAADAkgfZd0IAAKgBC9l3QgAAkHAO2XdCAAB43xHZd0IAAGBOFdl3QgAASL0Y2XdCAAAwLBzZd0IAABibH9l3QgAAAAoj2XdCAADoeCbZd0IAANDnKdl3QgAAuFYt2XdCAACgxTDZd0IAAIg0NNl3QgAAcKM32XdCAABYEjvZd0IAAECBPtl3QgAAKPBB2XdCAAAQX0XZd0IAAPjNSNl3QgAA4DxM2XdCAADIq0/Zd0IAALAaU9l3QgAAmIlW2XdCAACA+FnZd0IAAGhnXdl3QgAAUNZg2XdCAAA4RWTZd0IAACC0Z9l3QgAACCNr2XdCAADwkW7Zd0IAANgActl3QgAAwG912XdCAACo3njZd0IAAJBNfNl3QgAAeLx/2XdCAABgK4PZd0IAAEiahtl3QgAAMAmK2XdCAAAYeI3Zd0IAAADnkNl3QgAA6FWU2XdCAADQxJfZd0IAALgzm9l3QgAAoKKe2XdCAACIEaLZd0IAAHCApdl3QgAAWO+o2XdCAABAXqzZd0IAACjNr9l3QgAAEDyz2XdCAAD4qrbZd0IAAOAZutl3QgAAyIi92XdCAACw98DZd0IAAJhmxNl3QgAAgNXH2XdCAABoRMvZd0IAAFCzztl3QgAAOCLS2XdCAAAgkdXZd0IAAAgA2dl3QgAA8G7c2XdCAADY3d/Zd0IAAMBM49l3QgAAqLvm2XdCAACQKurZd0IAAHiZ7dl3QgAAYAjx2XdCAABId/TZd0IAADDm99l3QgAAGFX72XdC\",\"dtype\":\"float64\",\"order\":\"little\",\"shape\":[168]},\"y\":{\"__ndarray__\":\"exSuR2mc60Bcj8L1gJHrQHE9CtfTpetAKVyPws2060A9CtejcKnrQMP1KFxX2utAUrgehdPJ60CPwvUozMfrQIXrUbh+nOtA4XoUrref60AUrkfhoprrQNejcD0qfOtA4XoUrjeI60DD9Shcf6TrQFK4HoXLuetAUrgehbvJ60BmZmZm3rvrQMP1KFxfp+tAexSuRznG60D2KFyPGsjrQNejcD2C2utAcT0K19vC60DD9ShcZ8/rQKRwPQqHeutAUrgehYNX60D2KFyPgtnqQD0K16Mw2upA4XoUri/M6kCPwvUolEvqQHE9CteTH+pA4XoUrucw6kDXo3A92g/qQEjhehT2PepACtejcNXs6UAUrkfhkubpQOF6FK5f7ulACtejcJVp6UDXo3A9CpXoQB+F61EIS+dAUrgehQtB50CuR+F6PB3nQAAAAAAAPudAcT0K15s750CamZmZAS/nQI/C9SiUv+ZAPQrXo3gD50AK16NwlS3nQHsUrkcZZedAZmZmZmaT50D2KFyPemHnQMP1KFxPnOdAhetRuE7m50AAAAAAABfoQEjhehTmFuhAzczMzMzR50Bcj8L1IA/oQKRwPQpfCuhAw/UoXK/w50C4HoXrUfnnQPYoXI9i/edAAAAAABAM6ED2KFyP8u3nQAAAAACAK+hAzczMzKw76EDhehSuTx3oQI/C9SjMNuhA4XoUri/650AAAAAAwBjoQK5H4XosF+hAAAAAAAgn6EC4HoXrcR3oQPYoXI/y8OdArkfheuRx50CamZmZ+bjnQIXrUbh+HehAUrgehasC6EApXI/CjevnQB+F61EA4+dAcT0K13ML6EDNzMzMxBjoQKRwPQrnJuhA16NwPerY50AK16NwTeTnQFyPwvVo6OdASOF6FE7750CPwvUonPXnQAAAAADAzedAPQrXo5CM50CPwvUojK7nQDMzMzP7j+dA9ihcj6It50BI4XoU1jnnQAAAAABYvudA16NwPTqw50AAAAAA6JrnQEjhehQuj+dAAAAAAIDw50C4HoXroQHoQAAAAAAg8OdAMzMzM2MK6EDsUbgebQHoQB+F61GQ4OdAXI/C9RB96EAK16NwRdLoQAAAAABgr+hArkfhegTE6EA9Ctej0MLoQI/C9SjMwehASOF6FHbo6EDXo3A96uLoQD0K16OA5OhAKVyPwqUC6UDXo3A9iuHoQBSuR+EaDulAFK5H4SIR6UCamZmZ8RTpQAAAAADgKelAKVyPwoXm6EC4HoXrMeboQK5H4Xr0KulAAAAAAABL6UCF61G4RhjpQB+F61GY7uhAj8L1KCTj6ECF61G4tt3oQEjhehSWouhAZmZmZm6p6EAfhetRsI3oQNejcD1quOhAAAAAAHDK6EDD9ShcR6LoQNejcD1amuhAhetRuOZ86EAUrkfh+ovoQK5H4XoEo+hApHA9Coe+6ECuR+F67KvoQMP1KFwHoehAKVyPwuWB6EA9Ctej8A7oQArXo3BVCehA4XoUrh8Q6EBI4XoUFvrnQM3MzMyczehA9ihcj2rB6EAAAAAAsKXoQOxRuB7NkuhAmpmZmWG06EBI4XoU3qXoQAAAAABAy+hAcT0K1xu46EAAAAAAYIjoQJqZmZnprehASOF6FP6k6EAzMzMzc4boQBSuR+HqY+hACtejcMUw6EBSuB6Fc1boQClcj8IFU+hAAAAAAFA+6EC4HoXrgXLoQFyPwvWQMehAj8L1KIQM6EDXo3A9YhvoQM3MzMxkBuhArkfhekwm6EDhehSuVx7oQK5H4XrU9+dA\",\"dtype\":\"float64\",\"order\":\"little\",\"shape\":[168]}},\"selected\":{\"id\":\"1050\"},\"selection_policy\":{\"id\":\"1049\"}},\"id\":\"1036\",\"type\":\"ColumnDataSource\"}],\"root_ids\":[\"1003\"]},\"title\":\"Bokeh Application\",\"version\":\"2.4.2\"}};\n",
       "  const render_items = [{\"docid\":\"a098b03c-c8f4-4515-b356-ecad7a793adb\",\"root_ids\":[\"1003\"],\"roots\":{\"1003\":\"a0e9173d-674a-4611-9851-bd08887419e5\"}}];\n",
       "  root.Bokeh.embed.embed_items_notebook(docs_json, render_items);\n",
       "\n",
       "  }\n",
       "  if (root.Bokeh !== undefined) {\n",
       "    embed_document(root);\n",
       "  } else {\n",
       "    let attempts = 0;\n",
       "    const timer = setInterval(function(root) {\n",
       "      if (root.Bokeh !== undefined) {\n",
       "        clearInterval(timer);\n",
       "        embed_document(root);\n",
       "      } else {\n",
       "        attempts++;\n",
       "        if (attempts > 100) {\n",
       "          clearInterval(timer);\n",
       "          console.log(\"Bokeh: ERROR: Unable to run BokehJS code because BokehJS library is missing\");\n",
       "        }\n",
       "      }\n",
       "    }, 10, root)\n",
       "  }\n",
       "})(window);"
      ],
      "application/vnd.bokehjs_exec.v0+json": ""
     },
     "metadata": {
      "application/vnd.bokehjs_exec.v0+json": {
       "id": "1003"
      }
     },
     "output_type": "display_data"
    }
   ],
   "source": [
    "p1 = figure(x_axis_type=\"datetime\", title=\"Crypto Prices\", width=800)\n",
    "p1.grid.grid_line_alpha=0.3\n",
    "p1.xaxis.axis_label = 'Date'\n",
    "p1.yaxis.axis_label = 'Price'\n",
    "\n",
    "p1.line(btc.index, btc['ClosePrice'], color='#f2a900', legend='Bitcoin')\n",
    "#p1.line(eth.index, eth['ClosePrice'], color='#A6CEE3', legend='Ether')\n",
    "\n",
    "p1.legend.location = \"top_left\"\n",
    "\n",
    "show(p1)"
   ]
  },
  {
   "cell_type": "markdown",
   "metadata": {},
   "source": [
    "☝️ as you can see, the plot is interactive. Try zomming in and out, and scrolling in the plot."
   ]
  },
  {
   "cell_type": "markdown",
   "metadata": {},
   "source": [
    "![green-divider](https://user-images.githubusercontent.com/7065401/52071924-c003ad80-2562-11e9-8297-1c6595f8a7ff.png)\n",
    "\n",
    "## Part 4: Exporting to Excel\n",
    "\n",
    "We're now ready to generate an Excel file from the downloaded prices. Working with Excel and other formats (like CSV or JSON) is extremely simple in Jupyter Lab (thanks to pandas and Python). Our first step will be to create an \"Excel writer\", a component from the `pandas` package:"
   ]
  },
  {
   "cell_type": "code",
   "execution_count": 69,
   "metadata": {},
   "outputs": [],
   "source": [
    "writer = pd.ExcelWriter('cryptos.xlsx')"
   ]
  },
  {
   "cell_type": "markdown",
   "metadata": {},
   "source": [
    "We'll now write both our Bitcoin and Ether data as separate sheets:"
   ]
  },
  {
   "cell_type": "code",
   "execution_count": 70,
   "metadata": {},
   "outputs": [],
   "source": [
    "btc.to_excel(writer, sheet_name='Bitcoin')"
   ]
  },
  {
   "cell_type": "code",
   "execution_count": 71,
   "metadata": {},
   "outputs": [],
   "source": [
    "eth.to_excel(writer, sheet_name='Ether')"
   ]
  },
  {
   "cell_type": "markdown",
   "metadata": {},
   "source": [
    "And finally, we can save the file:"
   ]
  },
  {
   "cell_type": "code",
   "execution_count": 72,
   "metadata": {},
   "outputs": [],
   "source": [
    "writer.save()"
   ]
  },
  {
   "cell_type": "markdown",
   "metadata": {},
   "source": [
    "Once you've saved the file, you should see it in the left side navigation bar:\n",
    "\n",
    "![Excel file](images/_5.png)"
   ]
  },
  {
   "cell_type": "markdown",
   "metadata": {},
   "source": [
    "## Final words and how to get help\n",
    "\n",
    "That's it! It's your time now to start working and playing around with jupyter lab and Notebooks.ai. This product is in an early stage, so we'd love to receive all your feedback and suggestions. If you need help or ideas for us to implement, create an issue in the following replo: [https://github.com/notebooks-ai/notebooks-help](https://github.com/notebooks-ai/notebooks-help). It'll be highly appreciated!"
   ]
  },
  {
   "cell_type": "markdown",
   "metadata": {},
   "source": [
    "![purple-divider](https://user-images.githubusercontent.com/7065401/52071927-c1cd7100-2562-11e9-908a-dde91ba14e59.png)"
   ]
  }
 ],
 "metadata": {
  "kernelspec": {
   "display_name": "Python 3 (ipykernel)",
   "language": "python",
   "name": "python3"
  },
  "language_info": {
   "codemirror_mode": {
    "name": "ipython",
    "version": 3
   },
   "file_extension": ".py",
   "mimetype": "text/x-python",
   "name": "python",
   "nbconvert_exporter": "python",
   "pygments_lexer": "ipython3",
   "version": "3.10.0"
  }
 },
 "nbformat": 4,
 "nbformat_minor": 2
}
